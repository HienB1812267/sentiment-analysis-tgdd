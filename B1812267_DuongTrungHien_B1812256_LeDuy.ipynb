{
  "cells": [
    {
      "cell_type": "markdown",
      "metadata": {
        "id": "x0DOyCbeT0Xi"
      },
      "source": [
        "#Install thư viện"
      ]
    },
    {
      "cell_type": "code",
      "execution_count": null,
      "metadata": {
        "colab": {
          "base_uri": "https://localhost:8080/",
          "height": 1000
        },
        "id": "4LnZb4PEJbUG",
        "outputId": "beaeda57-c081-4156-ab42-dfdb4e4b290f"
      },
      "outputs": [
        {
          "name": "stdout",
          "output_type": "stream",
          "text": [
            "Collecting pyvi\n",
            "  Downloading pyvi-0.1.1-py2.py3-none-any.whl (8.5 MB)\n",
            "\u001b[K     |████████████████████████████████| 8.5 MB 5.0 MB/s \n",
            "\u001b[?25hCollecting sklearn-crfsuite\n",
            "  Downloading sklearn_crfsuite-0.3.6-py2.py3-none-any.whl (12 kB)\n",
            "Requirement already satisfied: scikit-learn in /usr/local/lib/python3.7/dist-packages (from pyvi) (1.0.1)\n",
            "Requirement already satisfied: threadpoolctl>=2.0.0 in /usr/local/lib/python3.7/dist-packages (from scikit-learn->pyvi) (3.0.0)\n",
            "Requirement already satisfied: joblib>=0.11 in /usr/local/lib/python3.7/dist-packages (from scikit-learn->pyvi) (1.1.0)\n",
            "Requirement already satisfied: numpy>=1.14.6 in /usr/local/lib/python3.7/dist-packages (from scikit-learn->pyvi) (1.19.5)\n",
            "Requirement already satisfied: scipy>=1.1.0 in /usr/local/lib/python3.7/dist-packages (from scikit-learn->pyvi) (1.4.1)\n",
            "Collecting python-crfsuite>=0.8.3\n",
            "  Downloading python_crfsuite-0.9.7-cp37-cp37m-manylinux1_x86_64.whl (743 kB)\n",
            "\u001b[K     |████████████████████████████████| 743 kB 38.0 MB/s \n",
            "\u001b[?25hRequirement already satisfied: tabulate in /usr/local/lib/python3.7/dist-packages (from sklearn-crfsuite->pyvi) (0.8.9)\n",
            "Requirement already satisfied: tqdm>=2.0 in /usr/local/lib/python3.7/dist-packages (from sklearn-crfsuite->pyvi) (4.62.3)\n",
            "Requirement already satisfied: six in /usr/local/lib/python3.7/dist-packages (from sklearn-crfsuite->pyvi) (1.15.0)\n",
            "Installing collected packages: python-crfsuite, sklearn-crfsuite, pyvi\n",
            "Successfully installed python-crfsuite-0.9.7 pyvi-0.1.1 sklearn-crfsuite-0.3.6\n",
            "Collecting transformers\n",
            "  Downloading transformers-4.15.0-py3-none-any.whl (3.4 MB)\n",
            "\u001b[K     |████████████████████████████████| 3.4 MB 6.8 MB/s \n",
            "\u001b[?25hRequirement already satisfied: numpy>=1.17 in /usr/local/lib/python3.7/dist-packages (from transformers) (1.19.5)\n",
            "Collecting pyyaml>=5.1\n",
            "  Downloading PyYAML-6.0-cp37-cp37m-manylinux_2_5_x86_64.manylinux1_x86_64.manylinux_2_12_x86_64.manylinux2010_x86_64.whl (596 kB)\n",
            "\u001b[K     |████████████████████████████████| 596 kB 18.1 MB/s \n",
            "\u001b[?25hRequirement already satisfied: tqdm>=4.27 in /usr/local/lib/python3.7/dist-packages (from transformers) (4.62.3)\n",
            "Requirement already satisfied: packaging>=20.0 in /usr/local/lib/python3.7/dist-packages (from transformers) (21.3)\n",
            "Collecting huggingface-hub<1.0,>=0.1.0\n",
            "  Downloading huggingface_hub-0.2.1-py3-none-any.whl (61 kB)\n",
            "\u001b[K     |████████████████████████████████| 61 kB 454 kB/s \n",
            "\u001b[?25hCollecting tokenizers<0.11,>=0.10.1\n",
            "  Downloading tokenizers-0.10.3-cp37-cp37m-manylinux_2_5_x86_64.manylinux1_x86_64.manylinux_2_12_x86_64.manylinux2010_x86_64.whl (3.3 MB)\n",
            "\u001b[K     |████████████████████████████████| 3.3 MB 24.2 MB/s \n",
            "\u001b[?25hCollecting sacremoses\n",
            "  Downloading sacremoses-0.0.46-py3-none-any.whl (895 kB)\n",
            "\u001b[K     |████████████████████████████████| 895 kB 20.3 MB/s \n",
            "\u001b[?25hRequirement already satisfied: requests in /usr/local/lib/python3.7/dist-packages (from transformers) (2.23.0)\n",
            "Requirement already satisfied: regex!=2019.12.17 in /usr/local/lib/python3.7/dist-packages (from transformers) (2019.12.20)\n",
            "Requirement already satisfied: filelock in /usr/local/lib/python3.7/dist-packages (from transformers) (3.4.0)\n",
            "Requirement already satisfied: importlib-metadata in /usr/local/lib/python3.7/dist-packages (from transformers) (4.8.2)\n",
            "Requirement already satisfied: typing-extensions>=3.7.4.3 in /usr/local/lib/python3.7/dist-packages (from huggingface-hub<1.0,>=0.1.0->transformers) (3.10.0.2)\n",
            "Requirement already satisfied: pyparsing!=3.0.5,>=2.0.2 in /usr/local/lib/python3.7/dist-packages (from packaging>=20.0->transformers) (3.0.6)\n",
            "Requirement already satisfied: zipp>=0.5 in /usr/local/lib/python3.7/dist-packages (from importlib-metadata->transformers) (3.6.0)\n",
            "Requirement already satisfied: certifi>=2017.4.17 in /usr/local/lib/python3.7/dist-packages (from requests->transformers) (2021.10.8)\n",
            "Requirement already satisfied: idna<3,>=2.5 in /usr/local/lib/python3.7/dist-packages (from requests->transformers) (2.10)\n",
            "Requirement already satisfied: chardet<4,>=3.0.2 in /usr/local/lib/python3.7/dist-packages (from requests->transformers) (3.0.4)\n",
            "Requirement already satisfied: urllib3!=1.25.0,!=1.25.1,<1.26,>=1.21.1 in /usr/local/lib/python3.7/dist-packages (from requests->transformers) (1.24.3)\n",
            "Requirement already satisfied: click in /usr/local/lib/python3.7/dist-packages (from sacremoses->transformers) (7.1.2)\n",
            "Requirement already satisfied: six in /usr/local/lib/python3.7/dist-packages (from sacremoses->transformers) (1.15.0)\n",
            "Requirement already satisfied: joblib in /usr/local/lib/python3.7/dist-packages (from sacremoses->transformers) (1.1.0)\n",
            "Installing collected packages: pyyaml, tokenizers, sacremoses, huggingface-hub, transformers\n",
            "  Attempting uninstall: pyyaml\n",
            "    Found existing installation: PyYAML 3.13\n",
            "    Uninstalling PyYAML-3.13:\n",
            "      Successfully uninstalled PyYAML-3.13\n",
            "Successfully installed huggingface-hub-0.2.1 pyyaml-6.0 sacremoses-0.0.46 tokenizers-0.10.3 transformers-4.15.0\n",
            "Collecting emoji\n",
            "  Downloading emoji-1.6.1.tar.gz (170 kB)\n",
            "\u001b[K     |████████████████████████████████| 170 kB 4.9 MB/s \n",
            "\u001b[?25hBuilding wheels for collected packages: emoji\n",
            "  Building wheel for emoji (setup.py) ... \u001b[?25l\u001b[?25hdone\n",
            "  Created wheel for emoji: filename=emoji-1.6.1-py3-none-any.whl size=169314 sha256=d8b1e15f9a9ac63b881bf274876f9db0c026f08949a9e8bb9ef466365a10a36f\n",
            "  Stored in directory: /root/.cache/pip/wheels/ea/5f/d3/03d313ddb3c2a1a427bb4690f1621eea60fe6f2a30cc95940f\n",
            "Successfully built emoji\n",
            "Installing collected packages: emoji\n",
            "Successfully installed emoji-1.6.1\n",
            "--2021-12-24 07:05:00--  https://public.vinai.io/PhoBERT_base_transformers.tar.gz\n",
            "Resolving public.vinai.io (public.vinai.io)... 65.8.56.110, 65.8.56.12, 65.8.56.119, ...\n",
            "Connecting to public.vinai.io (public.vinai.io)|65.8.56.110|:443... connected.\n",
            "HTTP request sent, awaiting response... 200 OK\n",
            "Length: 322405979 (307M) [application/x-tar]\n",
            "Saving to: ‘PhoBERT_base_transformers.tar.gz’\n",
            "\n",
            "PhoBERT_base_transf 100%[===================>] 307.47M  91.1MB/s    in 3.4s    \n",
            "\n",
            "2021-12-24 07:05:05 (89.3 MB/s) - ‘PhoBERT_base_transformers.tar.gz’ saved [322405979/322405979]\n",
            "\n",
            "PhoBERT_base_transformers/\n",
            "PhoBERT_base_transformers/config.json\n",
            "PhoBERT_base_transformers/bpe.codes\n",
            "PhoBERT_base_transformers/model.bin\n",
            "PhoBERT_base_transformers/dict.txt\n",
            "Collecting fastBPE\n",
            "  Downloading fastBPE-0.1.0.tar.gz (35 kB)\n",
            "Building wheels for collected packages: fastBPE\n",
            "  Building wheel for fastBPE (setup.py) ... \u001b[?25l\u001b[?25hdone\n",
            "  Created wheel for fastBPE: filename=fastBPE-0.1.0-cp37-cp37m-linux_x86_64.whl size=483115 sha256=b4257c55d1ae832749edf0bebdeb9712b67e6d46044ceb99158128cfa602d5de\n",
            "  Stored in directory: /root/.cache/pip/wheels/bd/d4/0e/0d317a65f77d3f8049fedd8a2ee0519164cf3e6bd77ef886f1\n",
            "Successfully built fastBPE\n",
            "Installing collected packages: fastBPE\n",
            "Successfully installed fastBPE-0.1.0\n",
            "Collecting fairseq\n",
            "  Downloading fairseq-0.10.2-cp37-cp37m-manylinux1_x86_64.whl (1.7 MB)\n",
            "\u001b[K     |████████████████████████████████| 1.7 MB 5.4 MB/s \n",
            "\u001b[?25hRequirement already satisfied: cffi in /usr/local/lib/python3.7/dist-packages (from fairseq) (1.15.0)\n",
            "Collecting dataclasses\n",
            "  Downloading dataclasses-0.6-py3-none-any.whl (14 kB)\n",
            "Requirement already satisfied: regex in /usr/local/lib/python3.7/dist-packages (from fairseq) (2019.12.20)\n",
            "Collecting sacrebleu>=1.4.12\n",
            "  Downloading sacrebleu-2.0.0-py3-none-any.whl (90 kB)\n",
            "\u001b[K     |████████████████████████████████| 90 kB 9.6 MB/s \n",
            "\u001b[?25hRequirement already satisfied: torch in /usr/local/lib/python3.7/dist-packages (from fairseq) (1.10.0+cu111)\n",
            "Requirement already satisfied: tqdm in /usr/local/lib/python3.7/dist-packages (from fairseq) (4.62.3)\n",
            "Requirement already satisfied: numpy in /usr/local/lib/python3.7/dist-packages (from fairseq) (1.19.5)\n",
            "Collecting hydra-core\n",
            "  Downloading hydra_core-1.1.1-py3-none-any.whl (145 kB)\n",
            "\u001b[K     |████████████████████████████████| 145 kB 40.8 MB/s \n",
            "\u001b[?25hRequirement already satisfied: cython in /usr/local/lib/python3.7/dist-packages (from fairseq) (0.29.24)\n",
            "Collecting portalocker\n",
            "  Downloading portalocker-2.3.2-py2.py3-none-any.whl (15 kB)\n",
            "Collecting colorama\n",
            "  Downloading colorama-0.4.4-py2.py3-none-any.whl (16 kB)\n",
            "Requirement already satisfied: tabulate>=0.8.9 in /usr/local/lib/python3.7/dist-packages (from sacrebleu>=1.4.12->fairseq) (0.8.9)\n",
            "Requirement already satisfied: pycparser in /usr/local/lib/python3.7/dist-packages (from cffi->fairseq) (2.21)\n",
            "Collecting antlr4-python3-runtime==4.8\n",
            "  Downloading antlr4-python3-runtime-4.8.tar.gz (112 kB)\n",
            "\u001b[K     |████████████████████████████████| 112 kB 41.4 MB/s \n",
            "\u001b[?25hRequirement already satisfied: importlib-resources in /usr/local/lib/python3.7/dist-packages (from hydra-core->fairseq) (5.4.0)\n",
            "Collecting omegaconf==2.1.*\n",
            "  Downloading omegaconf-2.1.1-py3-none-any.whl (74 kB)\n",
            "\u001b[K     |████████████████████████████████| 74 kB 2.8 MB/s \n",
            "\u001b[?25hRequirement already satisfied: PyYAML>=5.1.0 in /usr/local/lib/python3.7/dist-packages (from omegaconf==2.1.*->hydra-core->fairseq) (6.0)\n",
            "Requirement already satisfied: zipp>=3.1.0 in /usr/local/lib/python3.7/dist-packages (from importlib-resources->hydra-core->fairseq) (3.6.0)\n",
            "Requirement already satisfied: typing-extensions in /usr/local/lib/python3.7/dist-packages (from torch->fairseq) (3.10.0.2)\n",
            "Building wheels for collected packages: antlr4-python3-runtime\n",
            "  Building wheel for antlr4-python3-runtime (setup.py) ... \u001b[?25l\u001b[?25hdone\n",
            "  Created wheel for antlr4-python3-runtime: filename=antlr4_python3_runtime-4.8-py3-none-any.whl size=141230 sha256=99dd522093a4479adca2888a5c7010078ff3e8a1fafac668b7430c12d2ea0ef0\n",
            "  Stored in directory: /root/.cache/pip/wheels/ca/33/b7/336836125fc9bb4ceaa4376d8abca10ca8bc84ddc824baea6c\n",
            "Successfully built antlr4-python3-runtime\n",
            "Installing collected packages: antlr4-python3-runtime, portalocker, omegaconf, colorama, sacrebleu, hydra-core, dataclasses, fairseq\n",
            "Successfully installed antlr4-python3-runtime-4.8 colorama-0.4.4 dataclasses-0.6 fairseq-0.10.2 hydra-core-1.1.1 omegaconf-2.1.1 portalocker-2.3.2 sacrebleu-2.0.0\n"
          ]
        },
        {
          "data": {
            "application/vnd.colab-display-data+json": {
              "pip_warning": {
                "packages": [
                  "pydevd_plugins"
                ]
              }
            }
          },
          "metadata": {},
          "output_type": "display_data"
        }
      ],
      "source": [
        "!pip install pyvi\n",
        "!pip install transformers\n",
        "# !pip install deplacy vncorenlp\n",
        "# !test -d VnCoreNLP || git clone --depth=1 https://github.com/vncorenlp/VnCoreNLP\n",
        "!pip install emoji\n",
        "!wget https://public.vinai.io/PhoBERT_base_transformers.tar.gz\n",
        "!tar -xzvf PhoBERT_base_transformers.tar.gz\n",
        "!pip install fastBPE\n",
        "!pip install fairseq"
      ]
    },
    {
      "cell_type": "markdown",
      "metadata": {
        "id": "9BAk93l-Tu6C"
      },
      "source": [
        "#Import thư viện"
      ]
    },
    {
      "cell_type": "code",
      "execution_count": null,
      "metadata": {
        "id": "htncCdhKTuM5"
      },
      "outputs": [],
      "source": [
        "import json\n",
        "import pandas as pd\n",
        "import numpy as np\n",
        "import matplotlib.pyplot as plt\n",
        "import seaborn as sns\n",
        "import re\n",
        "from pyvi import ViTokenizer\n",
        "from sklearn.model_selection import train_test_split\n",
        "from sklearn.feature_extraction.text import TfidfVectorizer\n",
        "from sklearn.naive_bayes import MultinomialNB\n",
        "from sklearn.metrics import accuracy_score\n",
        "from sklearn.linear_model import LogisticRegression\n",
        "from sklearn import svm\n",
        "from sklearn.feature_extraction.text import CountVectorizer\n",
        "from tensorflow.keras.preprocessing.sequence import pad_sequences\n",
        "import os\n",
        "os.environ['CUDA_LAUNCH_BLOCKING'] = \"1\""
      ]
    },
    {
      "cell_type": "markdown",
      "metadata": {
        "id": "m0jbxnMiT4Hy"
      },
      "source": [
        "#Đọc file và datasets"
      ]
    },
    {
      "cell_type": "code",
      "execution_count": null,
      "metadata": {
        "id": "5ccLR427mCZI"
      },
      "outputs": [],
      "source": [
        "#Đọc dữ liệu từ file json, xóa bỏ cột name vì cột này không giúp cho việc huấn luyện mô hình\n",
        "df = pd.read_json('./static/data_TGDD.json')\n",
        "# df = df.drop(columns={'name'})"
      ]
    },
    {
      "cell_type": "code",
      "execution_count": null,
      "metadata": {
        "id": "rQtxnVtxV97t"
      },
      "outputs": [],
      "source": [
        "#Đọc các stopwords từ file \n",
        "stopwords = []\n",
        "stopwords = list(open(\"./data/stopwords-nlp-vi.txt\", encoding=\"UTF-8-sig\", mode=\"r\"))\n",
        "for i in range(len(stopwords)):\n",
        "  stopwords[i] = re.sub(\"\\n\", \"\", stopwords[i])\n",
        "\n",
        "#Đọc các từ viết tắt từ file sang dict\n",
        "\n",
        "f = pd.read_csv(\"./data/acronym_vi.txt\", sep=\"\\t\").to_numpy()\n",
        "acronyms = {line[0]:line[1] for line in f}"
      ]
    },
    {
      "cell_type": "markdown",
      "metadata": {
        "id": "Xf_fjkIamM9d"
      },
      "source": [
        "#Hiển thị dữ liệu (Visualization)"
      ]
    },
    {
      "cell_type": "code",
      "execution_count": null,
      "metadata": {
        "colab": {
          "base_uri": "https://localhost:8080/",
          "height": 419
        },
        "id": "bnKuQtMGmaVg",
        "outputId": "2fb7dcd7-6e34-4001-e9ff-25bffb559539"
      },
      "outputs": [
        {
          "data": {
            "text/html": [
              "\n",
              "  <div id=\"df-57232e9f-7824-4c03-b3bf-03ba429fdb40\">\n",
              "    <div class=\"colab-df-container\">\n",
              "      <div>\n",
              "<style scoped>\n",
              "    .dataframe tbody tr th:only-of-type {\n",
              "        vertical-align: middle;\n",
              "    }\n",
              "\n",
              "    .dataframe tbody tr th {\n",
              "        vertical-align: top;\n",
              "    }\n",
              "\n",
              "    .dataframe thead th {\n",
              "        text-align: right;\n",
              "    }\n",
              "</style>\n",
              "<table border=\"1\" class=\"dataframe\">\n",
              "  <thead>\n",
              "    <tr style=\"text-align: right;\">\n",
              "      <th></th>\n",
              "      <th>name</th>\n",
              "      <th>content</th>\n",
              "      <th>star</th>\n",
              "    </tr>\n",
              "  </thead>\n",
              "  <tbody>\n",
              "    <tr>\n",
              "      <th>0</th>\n",
              "      <td>Nhinhi</td>\n",
              "      <td>Mua được 2 tháng. Mà sao thấy chụp ảnh nó xấu ...</td>\n",
              "      <td>3</td>\n",
              "    </tr>\n",
              "    <tr>\n",
              "      <th>1</th>\n",
              "      <td>Tân</td>\n",
              "      <td>bắt wifi tệ chưa từng đang xài muốn ngắt là n...</td>\n",
              "      <td>1</td>\n",
              "    </tr>\n",
              "    <tr>\n",
              "      <th>2</th>\n",
              "      <td>Vũ Đình An</td>\n",
              "      <td>Mình mua trả góp gói 30% của FE lãi suất 0%.\\n...</td>\n",
              "      <td>5</td>\n",
              "    </tr>\n",
              "    <tr>\n",
              "      <th>3</th>\n",
              "      <td>nhi</td>\n",
              "      <td>màn hình mượt nhé lướt mượt kh có gì phải chê ...</td>\n",
              "      <td>3</td>\n",
              "    </tr>\n",
              "    <tr>\n",
              "      <th>4</th>\n",
              "      <td>Nguyễn Đức Tuyển</td>\n",
              "      <td>Cảm nhận khi mua sp\\nThiết kế đẹp\\nCấu hình mạ...</td>\n",
              "      <td>4</td>\n",
              "    </tr>\n",
              "    <tr>\n",
              "      <th>...</th>\n",
              "      <td>...</td>\n",
              "      <td>...</td>\n",
              "      <td>...</td>\n",
              "    </tr>\n",
              "    <tr>\n",
              "      <th>19810</th>\n",
              "      <td>TRần Thị QUỲNH nGân</td>\n",
              "      <td>tân sinh viên thì thủ tục như thế nào vậy ạ .....</td>\n",
              "      <td>5</td>\n",
              "    </tr>\n",
              "    <tr>\n",
              "      <th>19811</th>\n",
              "      <td>Thái</td>\n",
              "      <td>Mình học lớp 9 thì có được khuyến mãi khi mua ...</td>\n",
              "      <td>5</td>\n",
              "    </tr>\n",
              "    <tr>\n",
              "      <th>19812</th>\n",
              "      <td>Phan Giang Thươg</td>\n",
              "      <td>Ưu đãi cho sinh viên thì thủ tục như thế nào. ...</td>\n",
              "      <td>3</td>\n",
              "    </tr>\n",
              "    <tr>\n",
              "      <th>19813</th>\n",
              "      <td>Phùng Đạt</td>\n",
              "      <td>Loại này chơi game được ko, ví dụ game liên mi...</td>\n",
              "      <td>5</td>\n",
              "    </tr>\n",
              "    <tr>\n",
              "      <th>19814</th>\n",
              "      <td>Phan Công Dũng</td>\n",
              "      <td>Loại này còn hàng ở Đà Nẵng ko ạ?\\nRam có thể ...</td>\n",
              "      <td>5</td>\n",
              "    </tr>\n",
              "  </tbody>\n",
              "</table>\n",
              "<p>19815 rows × 3 columns</p>\n",
              "</div>\n",
              "      <button class=\"colab-df-convert\" onclick=\"convertToInteractive('df-57232e9f-7824-4c03-b3bf-03ba429fdb40')\"\n",
              "              title=\"Convert this dataframe to an interactive table.\"\n",
              "              style=\"display:none;\">\n",
              "        \n",
              "  <svg xmlns=\"http://www.w3.org/2000/svg\" height=\"24px\"viewBox=\"0 0 24 24\"\n",
              "       width=\"24px\">\n",
              "    <path d=\"M0 0h24v24H0V0z\" fill=\"none\"/>\n",
              "    <path d=\"M18.56 5.44l.94 2.06.94-2.06 2.06-.94-2.06-.94-.94-2.06-.94 2.06-2.06.94zm-11 1L8.5 8.5l.94-2.06 2.06-.94-2.06-.94L8.5 2.5l-.94 2.06-2.06.94zm10 10l.94 2.06.94-2.06 2.06-.94-2.06-.94-.94-2.06-.94 2.06-2.06.94z\"/><path d=\"M17.41 7.96l-1.37-1.37c-.4-.4-.92-.59-1.43-.59-.52 0-1.04.2-1.43.59L10.3 9.45l-7.72 7.72c-.78.78-.78 2.05 0 2.83L4 21.41c.39.39.9.59 1.41.59.51 0 1.02-.2 1.41-.59l7.78-7.78 2.81-2.81c.8-.78.8-2.07 0-2.86zM5.41 20L4 18.59l7.72-7.72 1.47 1.35L5.41 20z\"/>\n",
              "  </svg>\n",
              "      </button>\n",
              "      \n",
              "  <style>\n",
              "    .colab-df-container {\n",
              "      display:flex;\n",
              "      flex-wrap:wrap;\n",
              "      gap: 12px;\n",
              "    }\n",
              "\n",
              "    .colab-df-convert {\n",
              "      background-color: #E8F0FE;\n",
              "      border: none;\n",
              "      border-radius: 50%;\n",
              "      cursor: pointer;\n",
              "      display: none;\n",
              "      fill: #1967D2;\n",
              "      height: 32px;\n",
              "      padding: 0 0 0 0;\n",
              "      width: 32px;\n",
              "    }\n",
              "\n",
              "    .colab-df-convert:hover {\n",
              "      background-color: #E2EBFA;\n",
              "      box-shadow: 0px 1px 2px rgba(60, 64, 67, 0.3), 0px 1px 3px 1px rgba(60, 64, 67, 0.15);\n",
              "      fill: #174EA6;\n",
              "    }\n",
              "\n",
              "    [theme=dark] .colab-df-convert {\n",
              "      background-color: #3B4455;\n",
              "      fill: #D2E3FC;\n",
              "    }\n",
              "\n",
              "    [theme=dark] .colab-df-convert:hover {\n",
              "      background-color: #434B5C;\n",
              "      box-shadow: 0px 1px 3px 1px rgba(0, 0, 0, 0.15);\n",
              "      filter: drop-shadow(0px 1px 2px rgba(0, 0, 0, 0.3));\n",
              "      fill: #FFFFFF;\n",
              "    }\n",
              "  </style>\n",
              "\n",
              "      <script>\n",
              "        const buttonEl =\n",
              "          document.querySelector('#df-57232e9f-7824-4c03-b3bf-03ba429fdb40 button.colab-df-convert');\n",
              "        buttonEl.style.display =\n",
              "          google.colab.kernel.accessAllowed ? 'block' : 'none';\n",
              "\n",
              "        async function convertToInteractive(key) {\n",
              "          const element = document.querySelector('#df-57232e9f-7824-4c03-b3bf-03ba429fdb40');\n",
              "          const dataTable =\n",
              "            await google.colab.kernel.invokeFunction('convertToInteractive',\n",
              "                                                     [key], {});\n",
              "          if (!dataTable) return;\n",
              "\n",
              "          const docLinkHtml = 'Like what you see? Visit the ' +\n",
              "            '<a target=\"_blank\" href=https://colab.research.google.com/notebooks/data_table.ipynb>data table notebook</a>'\n",
              "            + ' to learn more about interactive tables.';\n",
              "          element.innerHTML = '';\n",
              "          dataTable['output_type'] = 'display_data';\n",
              "          await google.colab.output.renderOutput(dataTable, element);\n",
              "          const docLink = document.createElement('div');\n",
              "          docLink.innerHTML = docLinkHtml;\n",
              "          element.appendChild(docLink);\n",
              "        }\n",
              "      </script>\n",
              "    </div>\n",
              "  </div>\n",
              "  "
            ],
            "text/plain": [
              "                      name  ... star\n",
              "0                   Nhinhi  ...    3\n",
              "1                      Tân  ...    1\n",
              "2               Vũ Đình An  ...    5\n",
              "3                      nhi  ...    3\n",
              "4         Nguyễn Đức Tuyển  ...    4\n",
              "...                    ...  ...  ...\n",
              "19810  TRần Thị QUỲNH nGân  ...    5\n",
              "19811                 Thái  ...    5\n",
              "19812     Phan Giang Thươg  ...    3\n",
              "19813            Phùng Đạt  ...    5\n",
              "19814       Phan Công Dũng  ...    5\n",
              "\n",
              "[19815 rows x 3 columns]"
            ]
          },
          "execution_count": 6,
          "metadata": {},
          "output_type": "execute_result"
        }
      ],
      "source": [
        "df"
      ]
    },
    {
      "cell_type": "code",
      "execution_count": null,
      "metadata": {
        "colab": {
          "base_uri": "https://localhost:8080/"
        },
        "id": "tiMbVV9Amo6L",
        "outputId": "92d667bb-e78f-4224-a7fc-4e6caae018af"
      },
      "outputs": [
        {
          "data": {
            "text/plain": [
              "5    7697\n",
              "3    3464\n",
              "1    3348\n",
              "4    3011\n",
              "2    2295\n",
              "Name: star, dtype: int64"
            ]
          },
          "execution_count": 7,
          "metadata": {},
          "output_type": "execute_result"
        }
      ],
      "source": [
        "#Hiển thị số lượng bình luận của từng loại đánh giá\n",
        "df.star.value_counts()"
      ]
    },
    {
      "cell_type": "code",
      "execution_count": null,
      "metadata": {
        "colab": {
          "base_uri": "https://localhost:8080/"
        },
        "id": "BcAkjkYdOswz",
        "outputId": "f17bef8b-65c8-4e65-8cd2-da01627d4228"
      },
      "outputs": [
        {
          "data": {
            "text/plain": [
              "10708"
            ]
          },
          "execution_count": 9,
          "metadata": {},
          "output_type": "execute_result"
        }
      ],
      "source": [
        "7697 + 3011"
      ]
    },
    {
      "cell_type": "code",
      "execution_count": null,
      "metadata": {
        "colab": {
          "base_uri": "https://localhost:8080/",
          "height": 281
        },
        "id": "u1jh3ayAmvEs",
        "outputId": "efb78d71-df70-4f8f-d8e3-72495f856619"
      },
      "outputs": [
        {
          "data": {
            "image/png": "[encoded data removed]",
            "text/plain": [
              "<Figure size 432x288 with 1 Axes>"
            ]
          },
          "metadata": {
            "needs_background": "light"
          },
          "output_type": "display_data"
        },
        {
          "name": "stdout",
          "output_type": "stream",
          "text": [
            "Số lượng phần tử của từng nhãn\n"
          ]
        }
      ],
      "source": [
        "df.star.value_counts().plot(kind=\"bar\", color=[\"brown\", \"salmon\"])\n",
        "plt.show()\n",
        "porc = (len(df[df.star==1]) / len(df.star)) * 100\n",
        "print('Số lượng phần tử của từng nhãn')"
      ]
    },
    {
      "cell_type": "markdown",
      "metadata": {
        "id": "6NWspCQ9nXXG"
      },
      "source": [
        "Nhận xét: Tập dữ liệu không cân bằng: Vì có sự chênh lệch lớn giữa nhãn có giá trị là 5 so với các nhãn còn lại.\n",
        "Kết luận: Gộp nhãn có giá trị 5 và 4 lại là nhãn đánh giá tích cực (nhãn 1). Nhãn có giá trị 1,2 và 3 thành nhãn đánh giá tiêu cực (nhãn 0).\n",
        "\n",
        "\n"
      ]
    },
    {
      "cell_type": "markdown",
      "metadata": {
        "id": "KVekvAAVoPcH"
      },
      "source": [
        "Chuyển đổi nhãn\n"
      ]
    },
    {
      "cell_type": "code",
      "execution_count": null,
      "metadata": {
        "colab": {
          "base_uri": "https://localhost:8080/",
          "height": 279
        },
        "id": "ha7qZdiCpCdr",
        "outputId": "5af30257-adc8-43c4-9eee-3929f9b613f8"
      },
      "outputs": [
        {
          "data": {
            "image/png": "[encoded data removed]",
            "text/plain": [
              "<Figure size 432x288 with 1 Axes>"
            ]
          },
          "metadata": {
            "needs_background": "light"
          },
          "output_type": "display_data"
        },
        {
          "name": "stdout",
          "output_type": "stream",
          "text": [
            "Phần trăm giữa tỉ lệ nhãn 1 và 0: 54.04%\n"
          ]
        }
      ],
      "source": [
        "def change_label(star):\n",
        "    if star <= 3:\n",
        "        return 0\n",
        "    return 1\n",
        "    \n",
        "#Chuyển đổi nhãn thành 0: tiêu cực và 1: tích cực\n",
        "df['label'] = df['star'].apply(change_label)\n",
        "\n",
        "df.label.value_counts().plot(kind=\"bar\", color=[\"brown\", \"salmon\"])\n",
        "plt.show()\n",
        "porc = (len(df[df.label==1]) / len(df.label)) * 100\n",
        "print('Phần trăm giữa tỉ lệ nhãn 1 và 0: {:.2f}%'.format(porc))"
      ]
    },
    {
      "cell_type": "markdown",
      "metadata": {
        "id": "XePp25_Up_DH"
      },
      "source": [
        "Nhận xét: Tập dữ liệu phân bố theo: (54:46) hay (6:4) => Tập dữ không quá mất cân bằng, không ảnh hưởng đáng kể tới kết quả dự đoán"
      ]
    },
    {
      "cell_type": "markdown",
      "metadata": {
        "id": "EBe1OXwz3YId"
      },
      "source": [
        "URL tham khảo: https://www.kaggle.com/vbmokin/nlp-eda-bag-of-words-tf-idf-glove-bert"
      ]
    },
    {
      "cell_type": "code",
      "execution_count": null,
      "metadata": {
        "id": "ilC7rKXasb10"
      },
      "outputs": [],
      "source": [
        "def length(text):    \n",
        "    '''a function which returns the length of text'''\n",
        "    if(len(text) > 500):\n",
        "        return 500\n",
        "    return len(text)\n",
        "\n",
        "df['length'] = df['content'].apply(length)"
      ]
    },
    {
      "cell_type": "code",
      "execution_count": null,
      "metadata": {
        "colab": {
          "base_uri": "https://localhost:8080/",
          "height": 388
        },
        "id": "AfOXeUwJvph7",
        "outputId": "02315d92-5b3b-41a0-cda5-c7e41237266f"
      },
      "outputs": [
        {
          "data": {
            "image/png": "[encoded data removed]",
            "text/plain": [
              "<Figure size 1296x432 with 1 Axes>"
            ]
          },
          "metadata": {
            "needs_background": "light"
          },
          "output_type": "display_data"
        }
      ],
      "source": [
        "plt.rcParams['figure.figsize'] = (18.0, 6.0)\n",
        "bins = 150\n",
        "plt.hist(df[df['label'] == 1]['length'], alpha = 0.8, bins=bins, label='Tích cực', color =\"green\")\n",
        "plt.hist(df[df['label'] == 0]['length'], alpha = 0.8, bins=bins, label='Tiêu cực', color =\"red\")\n",
        "plt.xlabel('Độ dài')\n",
        "plt.ylabel('Số lượng đánh giá')\n",
        "plt.legend(loc='upper right')\n",
        "plt.xlim(0,500)\n",
        "plt.grid()\n",
        "plt.show()"
      ]
    },
    {
      "cell_type": "markdown",
      "metadata": {
        "id": "1Tb6eAEv1gQe"
      },
      "source": [
        "Nhận xét: Trung bình số lượng đánh giá tiêu cực nhiều hơn tích cực có cùng độ dài\n"
      ]
    },
    {
      "cell_type": "markdown",
      "metadata": {
        "id": "qP7w8287FkWr"
      },
      "source": [
        "#Tiền xử lý"
      ]
    },
    {
      "cell_type": "markdown",
      "metadata": {
        "id": "qrN-KvlMV099"
      },
      "source": [
        " - Các hàm để phục vụ tiền xử lý"
      ]
    },
    {
      "cell_type": "code",
      "execution_count": null,
      "metadata": {
        "id": "3ZJb4LuhFii7"
      },
      "outputs": [],
      "source": [
        "#Chuẩn hóa unicode sang chuẩn unicode dựng sẵn\n",
        "def covert_unicode(txt):\n",
        "    return re.sub(\n",
        "        r'à|á|ả|ã|ạ|ầ|ấ|ẩ|ẫ|ậ|ằ|ắ|ẳ|ẵ|ặ|è|é|ẻ|ẽ|ẹ|ề|ế|ể|ễ|ệ|ì|í|ỉ|ĩ|ị|ò|ó|ỏ|õ|ọ|ồ|ố|ổ|ỗ|ộ|ờ|ớ|ở|ỡ|ợ|ù|ú|ủ|ũ|ụ|ừ|ứ|ử|ữ|ự|ỳ|ý|ỷ|ỹ|ỵ|À|Á|Ả|Ã|Ạ|Ầ|Ấ|Ẩ|Ẫ|Ậ|Ằ|Ắ|Ẳ|Ẵ|Ặ|È|É|Ẻ|Ẽ|Ẹ|Ề|Ế|Ể|Ễ|Ệ|Ì|Í|Ỉ|Ĩ|Ị|Ò|Ó|Ỏ|Õ|Ọ|Ồ|Ố|Ổ|Ỗ|Ộ|Ờ|Ớ|Ở|Ỡ|Ợ|Ù|Ú|Ủ|Ũ|Ụ|Ừ|Ứ|Ử|Ữ|Ự|Ỳ|Ý|Ỷ|Ỹ|Ỵ',\n",
        "        lambda x: dicchar[x.group()], txt)\n",
        "\n",
        "#Xử lý từ viết tắt\n",
        "def replace_acronyms(txt):\n",
        "  pat = re.compile(r\"\\b(%s)\\b\" % \"|\".join(acronyms))\n",
        "  txt = pat.sub(lambda m: acronyms.get(m.group()), txt)\n",
        "  return txt\n",
        "\n",
        "#Xử lý các từ lặp\n",
        "def remove_loop_char(txt):\n",
        "  txt = re.sub(r'([A-Z])\\1+', lambda m: m.group(1).upper(), str(txt), flags=re.IGNORECASE)\n",
        "  txt = re.sub(r'[^\\s\\wáàảãạăắằẳẵặâấầẩẫậéèẻẽẹêếềểễệóòỏõọôốồổỗộơớờởỡợíìỉĩịúùủũụưứừửữựýỳỷỹỵđ_]',' ',txt)\n",
        "  return txt\n",
        "\n",
        "#Xử lý các từ dừng\n",
        "def remove_stopwords(txt):\n",
        "  split_words = txt.split()\n",
        "  final_txt = []\n",
        "  for ch in split_words:\n",
        "    if ch not in stopwords:\n",
        "      final_txt.append(ch)\n",
        "  return \" \".join(final_txt)\n",
        "\n",
        "#Xử lý dấu câu\n",
        "def split_punctuations(txt):\n",
        "    punctuations = '@#!?+&*[]-%:/();$=><|{}^_' + \"'`\"\n",
        "    for p in punctuations:\n",
        "      txt = txt.replace(p, f' {p} ')\n",
        "    return txt\n",
        "\n",
        "#Tiền xử lý \n",
        "def preProcessing(txt):\n",
        "  txt = txt.lower()\n",
        "  #Xóa các kí tự xuống dòng\n",
        "  txt = \" \".join(re.sub(\"\\n\", \" \", txt).split())\n",
        "  #Xử lý dấu câu\n",
        "  txt = split_punctuations(txt)\n",
        "  #Thay thế các từ viết tắt\n",
        "  txt = replace_acronyms(txt)\n",
        "  #Xóa các kí tự lặp\n",
        "  txt = remove_loop_char(txt)\n",
        "  #Tách từ\n",
        "  txt = ViTokenizer.tokenize(txt)\n",
        "  #Xóa từ dừng\n",
        "  # txt = remove_stopwords(txt)\n",
        "  #Chuẩn hóa sang 1 kiểu unicode\n",
        "  txt = covert_unicode(txt)\n",
        "  txt = txt.lower()\n",
        "  # Xóa bớt các khoảng trắng thừa\n",
        "  return \" \".join(txt.split())"
      ]
    },
    {
      "cell_type": "code",
      "execution_count": null,
      "metadata": {
        "id": "sc85D5jizbDA"
      },
      "outputs": [],
      "source": [
        "#Tiền xử lý\n",
        "df['content_clean'] = df['content'].apply(preProcessing)"
      ]
    },
    {
      "cell_type": "markdown",
      "metadata": {
        "id": "LbhBmZoLX6hx"
      },
      "source": [
        "- Phân chia tập dữ liệu huấn luyện và test bằng nghi thức Hold-out tỉ lệ 7/3"
      ]
    },
    {
      "cell_type": "code",
      "execution_count": null,
      "metadata": {
        "id": "-ovlqLpWYDZP"
      },
      "outputs": [],
      "source": [
        "X, y = df['content_clean'], df['label']\n",
        "X_train, X_test, y_train, y_test = train_test_split(X, y, test_size=0.3, random_state = 42)"
      ]
    },
    {
      "cell_type": "code",
      "execution_count": null,
      "metadata": {
        "colab": {
          "base_uri": "https://localhost:8080/"
        },
        "id": "9EATSgZYVRNy",
        "outputId": "396d3f94-e02f-435a-a9e9-4a8087c2c1cd"
      },
      "outputs": [
        {
          "data": {
            "text/plain": [
              "pandas.core.series.Series"
            ]
          },
          "execution_count": 22,
          "metadata": {},
          "output_type": "execute_result"
        }
      ],
      "source": [
        "type(X_train)"
      ]
    },
    {
      "cell_type": "markdown",
      "metadata": {
        "id": "GZlc9wetiwlZ"
      },
      "source": [
        "Vector hóa văn bảng bằng CountVectorizer và TF-IDF"
      ]
    },
    {
      "cell_type": "code",
      "execution_count": null,
      "metadata": {
        "id": "h8oPEE0jiGAt"
      },
      "outputs": [],
      "source": [
        "#Hàm chuyển dữ liệu train và test thành các vector dùng CountVectorizer và TfidfVectorizer\n",
        "def count_vector(data_train, data_test):\n",
        "    count_vectorizer = CountVectorizer(max_features=5000)\n",
        "    vector_train = count_vectorizer.fit_transform(data_train)\n",
        "    vector_test = count_vectorizer.transform(data_test)\n",
        "    return count_vectorizer, vector_train, vector_test\n",
        "\n",
        "def tfidf_vector(data_train, data_test):\n",
        "    tfidf_vectorizer = TfidfVectorizer(ngram_range=(1, 2), min_df=1, use_idf=True)\n",
        "    vector_train = tfidf_vectorizer.fit_transform(data_train)\n",
        "    vector_test = tfidf_vectorizer.transform(data_test)\n",
        "    return tfidf_vectorizer, vector_train, vector_test\n",
        "\n",
        "#Tạo ra vector cho tập train và test với CountVectorizer\n",
        "count_vector, X_train_Count, X_test_Count = count_vector(X_train, X_test)\n",
        "#Tạo ra vector cho tập train và test với TfidfVectorizer\n",
        "tf_idf, X_train_tfidf, X_test_tfidf = tfidf_vector(X_train, X_test)"
      ]
    },
    {
      "cell_type": "markdown",
      "metadata": {
        "id": "MTvwsZSo7T0R"
      },
      "source": [
        "#Lưu lại model vector hóa"
      ]
    },
    {
      "cell_type": "code",
      "execution_count": null,
      "metadata": {
        "id": "N8SqT0ym0VpC"
      },
      "outputs": [],
      "source": [
        "import pickle\n",
        "\n",
        "with open(\"vectorizes.pkl\", \"wb\") as f:\n",
        "  pickle.dump((count_vector, tf_idf), f)\n",
        "\n",
        "f.close()"
      ]
    },
    {
      "cell_type": "markdown",
      "metadata": {
        "id": "4JGZtO-lXtQV"
      },
      "source": [
        "#Xây dựng mô hình\n",
        "  - Với Naives Bayes Multinomial"
      ]
    },
    {
      "cell_type": "code",
      "execution_count": null,
      "metadata": {
        "colab": {
          "base_uri": "https://localhost:8080/"
        },
        "id": "iZnsCiRXXtsc",
        "outputId": "b0b53591-3d1c-4f21-a62f-ed97eaa12e56"
      },
      "outputs": [
        {
          "name": "stdout",
          "output_type": "stream",
          "text": [
            "Độ chính xác với CountVectorizer: 0.834\n",
            "MultinomialNB()\n",
            "Độ chính xác với TfidfVectorizer: 0.848\n"
          ]
        }
      ],
      "source": [
        "bayes_model_cv = MultinomialNB()\n",
        "bayes_model_cv.fit(X_train_Count, y_train)\n",
        "y_bayes_pred = bayes_model_cv.predict(X_test_Count)\n",
        "print('Độ chính xác với CountVectorizer: %.3f' % accuracy_score(y_test, y_bayes_pred))\n",
        "\n",
        "bayes_model_tf = MultinomialNB()\n",
        "bayes_model_tf.fit(X_train_tfidf, y_train)\n",
        "y_bayes_pred = bayes_model_tf.predict(X_test_tfidf)\n",
        "\n",
        "print('Độ chính xác với TfidfVectorizer: %.3f' % accuracy_score(y_test, y_bayes_pred))"
      ]
    },
    {
      "cell_type": "code",
      "execution_count": null,
      "metadata": {
        "id": "kwoinL1b7pi2"
      },
      "outputs": [],
      "source": [
        "#Lưu model bayes lại\n",
        "with open(\"bayes_model.pkl\", \"wb\") as f:\n",
        "  pickle.dump((bayes_model_cv, bayes_model_tf), f)\n",
        "\n",
        "f.close()"
      ]
    },
    {
      "cell_type": "markdown",
      "metadata": {
        "id": "pzGjOqoFwwkS"
      },
      "source": [
        "- Với SVM"
      ]
    },
    {
      "cell_type": "code",
      "execution_count": null,
      "metadata": {
        "colab": {
          "base_uri": "https://localhost:8080/"
        },
        "id": "-2DdCo2pwv3n",
        "outputId": "e13bf89a-5ef1-4b82-f232-e114df6baa51"
      },
      "outputs": [
        {
          "name": "stdout",
          "output_type": "stream",
          "text": [
            "Độ chính xác với CountVectorizer: 0.828\n",
            "Độ chính xác với TfidfVectorizer: 0.864\n"
          ]
        }
      ],
      "source": [
        "svm_model_cv = svm.SVC(kernel='linear', C=1.3)\n",
        "svm_model_cv.fit(X_train_Count, y_train)\n",
        "y_svm_pred = svm_model_cv.predict(X_test_Count)\n",
        "print('Độ chính xác với CountVectorizer: %.3f' % accuracy_score(y_test, y_svm_pred))\n",
        "\n",
        "svm_model_tf = svm.SVC(kernel='linear', C=1.3)\n",
        "svm_model_tf.fit(X_train_tfidf, y_train)\n",
        "y_svm_pred = svm_model_tf.predict(X_test_tfidf)\n",
        "print('Độ chính xác với TfidfVectorizer: %.3f' % accuracy_score(y_test, y_svm_pred))"
      ]
    },
    {
      "cell_type": "code",
      "execution_count": null,
      "metadata": {
        "id": "BhAj8GLt8UqD"
      },
      "outputs": [],
      "source": [
        "#Lưu model SVM lại\n",
        "with open(\"svm_model.pkl\", \"wb\") as f:\n",
        "  pickle.dump((svm_model_cv, svm_model_tf), f)\n",
        "\n",
        "f.close()"
      ]
    },
    {
      "cell_type": "markdown",
      "metadata": {
        "id": "C_aeWL-knKPF"
      },
      "source": [
        "- Với Logistic Regression\n",
        "\n"
      ]
    },
    {
      "cell_type": "code",
      "execution_count": null,
      "metadata": {
        "colab": {
          "base_uri": "https://localhost:8080/"
        },
        "id": "ui5Idvyq1oYO",
        "outputId": "70fa0735-af4a-4b72-e88f-333b3593ea1c"
      },
      "outputs": [
        {
          "name": "stdout",
          "output_type": "stream",
          "text": [
            "Độ chính xác với CountVectorizer: 0.840\n",
            "Độ chính xác với TfidfVectorizer: 0.865\n"
          ]
        }
      ],
      "source": [
        "linear_model_cv = LogisticRegression(solver='lbfgs', multi_class='auto', max_iter=10000)\n",
        "linear_model_cv.fit(X_train_Count, y_train)\n",
        "y_linear_pred = linear_model_cv.predict(X_test_Count)\n",
        "print('Độ chính xác với CountVectorizer: %.3f' % accuracy_score(y_test, y_linear_pred))\n",
        "\n",
        "linear_model_tf = LogisticRegression(solver='lbfgs', multi_class='auto', max_iter=10000)\n",
        "linear_model_tf.fit(X_train_tfidf, y_train)\n",
        "y_linear_pred = linear_model_tf.predict(X_test_tfidf)\n",
        "print('Độ chính xác với TfidfVectorizer: %.3f' % accuracy_score(y_test, y_linear_pred))"
      ]
    },
    {
      "cell_type": "code",
      "execution_count": null,
      "metadata": {
        "id": "OTlANTXX8hzC"
      },
      "outputs": [],
      "source": [
        "#Lưu model logistic lại\n",
        "with open(\"linear_model.pkl\", \"wb\") as f:\n",
        "  pickle.dump((linear_model_cv, linear_model_tf), f)\n",
        "\n",
        "f.close()"
      ]
    },
    {
      "cell_type": "markdown",
      "metadata": {
        "id": "FEdoRp35nQ7B"
      },
      "source": [
        "Ta có thể thấy được độ chính xác khi sử dụng TfidfVectorizer luôn cao hơn so với khi sử dụng CountVectorizer. Và mô hình SVM cùng với Logisric Regression cho độ chính xác cao nhất khi đạt đến khoảng 86.5%"
      ]
    },
    {
      "cell_type": "markdown",
      "metadata": {
        "id": "LcWC57Ctu9oP"
      },
      "source": [
        "# Mô hình DeepLearing - Phobert"
      ]
    },
    {
      "cell_type": "markdown",
      "metadata": {
        "id": "p6NnAi3DpDDu"
      },
      "source": [
        "Tham khảo từ nguồn https://viblo.asia/p/bert-roberta-phobert-bertweet-ung-dung-state-of-the-art-pre-trained-model-cho-bai-toan-phan-loai-van-ban-4P856PEWZY3"
      ]
    },
    {
      "cell_type": "markdown",
      "metadata": {
        "id": "xZU-J431rDlM"
      },
      "source": [
        "Load từ điển có sẵn của Phobert. Bpe giúp ta enconde(Chuyển 1 câu thành 1 mảng các subword. vocab giúp ánh xạ ngược các subword thành id trong bộ từ điển của Phobert"
      ]
    },
    {
      "cell_type": "code",
      "execution_count": null,
      "metadata": {
        "id": "LrRXZunqyzgc"
      },
      "outputs": [],
      "source": [
        "from fairseq.data.encoders.fastbpe import fastBPE\n",
        "from fairseq.data import Dictionary\n",
        "import argparse\n",
        "\n",
        "parser = argparse.ArgumentParser()\n",
        "parser.add_argument('--bpe-codes', \n",
        "    default=\"/content/PhoBERT_base_transformers/bpe.codes\",\n",
        "    required=False,\n",
        "    type=str,\n",
        "    help='path to fastBPE BPE'\n",
        ")\n",
        "\n",
        "args, unknown = parser.parse_known_args()\n",
        "bpe = fastBPE(args)\n",
        "\n",
        "# Load the dictionary\n",
        "vocab = Dictionary()\n",
        "vocab.add_from_file(\"/content/PhoBERT_base_transformers/dict.txt\")"
      ]
    },
    {
      "cell_type": "markdown",
      "metadata": {
        "id": "n2NB-szJpOkV"
      },
      "source": [
        "Vì mô hình Phobert có quá trình tiền xử lý khác với các mô hình thông thường nên ta cần tiền xử lý khác đi 1 chút"
      ]
    },
    {
      "cell_type": "code",
      "execution_count": null,
      "metadata": {
        "id": "klyKvSnRZ_mx"
      },
      "outputs": [],
      "source": [
        "def remove_emoji(txt):\n",
        "    emoji_pattern = re.compile(\"[\"\n",
        "        u\"\\U0001F600-\\U0001F64F\"  # emoticons\n",
        "        u\"\\U0001F300-\\U0001F5FF\"  # symbols & pictographs\n",
        "        u\"\\U0001F680-\\U0001F6FF\"  # transport & map symbols\n",
        "        u\"\\U0001F1E0-\\U0001F1FF\"  # flags (iOS)\n",
        "                           \"]+\", flags=re.UNICODE)\n",
        "    return emoji_pattern.sub(r\" \", txt)\n",
        "\n",
        "def fix_number(txt):\n",
        "    txt = re.sub(r'(?<=\\d)(?=[^\\d\\s])|(?<=[^\\d\\s])(?=\\d)', ' ', txt)\n",
        "    return txt\n",
        "\n",
        "def preProcessing(txt):\n",
        "    txt = txt.lower()\n",
        "    txt = txt.replace('\\n',' ')\n",
        "    txt = txt.replace(':)',' ')\n",
        "    txt = txt.replace(':))',' ')\n",
        "    txt = txt.replace(':)))',' ')\n",
        "    txt = txt.replace('=)',' ')\n",
        "    txt = txt.replace('=))',' ')\n",
        "    txt = txt.replace('=)))',' ')\n",
        "    txt = txt.replace(':(',' ')\n",
        "    txt = txt.replace(':((',' ')\n",
        "    txt = txt.replace(':(((',' ')\n",
        "    txt = txt.replace('...',' . ')\n",
        "    txt = split_punctuations(txt)\n",
        "    txt = fix_number(txt)\n",
        "    #Thay thế các từ viết tắt\n",
        "    txt = replace_acronyms(txt)\n",
        "    txt = remove_emoji(txt)\n",
        "    txt = ViTokenizer.tokenize(txt)\n",
        "    txt = txt.lower()\n",
        "    return txt\n",
        "\n",
        "df['clean_content'] = df['content'].apply(preProcessing)"
      ]
    },
    {
      "cell_type": "markdown",
      "metadata": {
        "id": "5YStDxxbrhIS"
      },
      "source": [
        "Tiến hành phân chia tập dữ liệu bằng Hold-out và bắt đầu encode. Với MAX_LEN = 84 có nghĩa là các câu có độ dài lớn hơn sẽ bị cắt còn 124 từ"
      ]
    },
    {
      "cell_type": "code",
      "execution_count": null,
      "metadata": {
        "id": "hGhANQpV0NNB"
      },
      "outputs": [],
      "source": [
        "MAX_LEN = 84\n",
        "\n",
        "X = df['clean_content']\n",
        "y = df['label'].to_list()\n",
        "\n",
        "train_sents, val_sents, train_labels, val_labels = train_test_split(X, y, test_size=0.2, random_state = 42)\n",
        "\n",
        "#Tiến hành encode\n",
        "train_ids = []\n",
        "val_ids = []\n",
        "\n",
        "for sent in train_sents:\n",
        "    subwords = '<s> ' + bpe.encode(sent) + ' </s>'\n",
        "    encoded_sent = vocab.encode_line(subwords, append_eos=True, add_if_not_exist=False).long().tolist()\n",
        "    train_ids.append(encoded_sent)\n",
        "\n",
        "for sent in val_sents:\n",
        "    subwords = '<s> ' + bpe.encode(sent) + ' </s>'\n",
        "    encoded_sent = vocab.encode_line(subwords, append_eos=True, add_if_not_exist=False).long().tolist()\n",
        "    val_ids.append(encoded_sent)\n",
        "\n",
        "#List các id\n",
        "train_ids = pad_sequences(train_ids, maxlen=MAX_LEN, dtype=\"long\", value=0, truncating=\"post\", padding=\"post\")\n",
        "val_ids = pad_sequences(val_ids, maxlen=MAX_LEN, dtype=\"long\", value=0, truncating=\"post\", padding=\"post\")"
      ]
    },
    {
      "cell_type": "markdown",
      "metadata": {
        "id": "zYeqyh-MsVLK"
      },
      "source": [
        "Ta tiến hành tạo các mask là mảng gồm các số 0 1 nhằm kiểm tra xem các giá trị nào của chuỗi đã được padding"
      ]
    },
    {
      "cell_type": "code",
      "execution_count": null,
      "metadata": {
        "id": "dKhGNeZR1q9Y"
      },
      "outputs": [],
      "source": [
        "train_masks = []\n",
        "for sent in train_ids:\n",
        "    mask = [int(token_id > 0) for token_id in sent]\n",
        "    train_masks.append(mask)\n",
        "\n",
        "val_masks = []\n",
        "for sent in val_ids:\n",
        "    mask = [int(token_id > 0) for token_id in sent]\n",
        "\n",
        "    val_masks.append(mask)"
      ]
    },
    {
      "cell_type": "markdown",
      "metadata": {
        "id": "gzqbQqg-sk3a"
      },
      "source": [
        "Chuyển dữ liệu sang Tensor và sử dụng DataLoader của torch"
      ]
    },
    {
      "cell_type": "code",
      "execution_count": null,
      "metadata": {
        "id": "knlhDFqr2KQZ"
      },
      "outputs": [],
      "source": [
        "from torch.utils.data import TensorDataset, DataLoader, RandomSampler, SequentialSampler\n",
        "import torch\n",
        "BATCH_SIZE = 12\n",
        "\n",
        "train_inputs = torch.tensor(train_ids)\n",
        "val_inputs = torch.tensor(val_ids)\n",
        "train_labels = torch.tensor(train_labels)\n",
        "val_labels = torch.tensor(val_labels)\n",
        "train_masks = torch.tensor(train_masks)\n",
        "val_masks = torch.tensor(val_masks)\n",
        "\n",
        "train_data = TensorDataset(train_inputs, train_masks, train_labels)\n",
        "train_sampler = SequentialSampler(train_data)\n",
        "train_dataloader = DataLoader(train_data, sampler=train_sampler, batch_size=BATCH_SIZE)\n",
        "\n",
        "val_data = TensorDataset(val_inputs, val_masks, val_labels)\n",
        "val_sampler = SequentialSampler(val_data)\n",
        "val_dataloader = DataLoader(val_data, sampler=val_sampler, batch_size=BATCH_SIZE)"
      ]
    },
    {
      "cell_type": "markdown",
      "metadata": {
        "id": "GYju8W4psuLn"
      },
      "source": [
        "Ta tiến hành load mô hình từ Phobert (Mô hình này chưa qua huấn luyện với tập dữ liệu hiện tại)"
      ]
    },
    {
      "cell_type": "code",
      "execution_count": null,
      "metadata": {
        "id": "kLVl8lSS3Q7k"
      },
      "outputs": [],
      "source": [
        "from transformers import RobertaForSequenceClassification, RobertaConfig, AdamW, BertForSequenceClassification\n",
        "\n",
        "config = RobertaConfig.from_pretrained(\n",
        "    \"/content/PhoBERT_base_transformers/config.json\", from_tf=False, num_labels = 2, output_hidden_states=False,\n",
        ")\n",
        "BERT_SA = BertForSequenceClassification.from_pretrained(\n",
        "    \"/content/PhoBERT_base_transformers/model.bin\", \n",
        "    config=config\n",
        ")\n",
        "\n",
        "BERT_SA.cuda()"
      ]
    },
    {
      "cell_type": "markdown",
      "metadata": {
        "id": "0_0ch_aTtM3i"
      },
      "source": [
        "Hoặc ta có thể load mô hình Phobert mà đã qua huấn luyện với tập dữ liệu hiện tại"
      ]
    },
    {
      "cell_type": "code",
      "execution_count": null,
      "metadata": {
        "colab": {
          "base_uri": "https://localhost:8080/"
        },
        "id": "iXk8QAhrtNpl",
        "outputId": "83f1693a-d124-4e6c-c3c7-05c7da07caf1"
      },
      "outputs": [
        {
          "data": {
            "text/plain": [
              "BertForSequenceClassification(\n",
              "  (bert): BertModel(\n",
              "    (embeddings): BertEmbeddings(\n",
              "      (word_embeddings): Embedding(64001, 768, padding_idx=0)\n",
              "      (position_embeddings): Embedding(258, 768)\n",
              "      (token_type_embeddings): Embedding(1, 768)\n",
              "      (LayerNorm): LayerNorm((768,), eps=1e-05, elementwise_affine=True)\n",
              "      (dropout): Dropout(p=0.1, inplace=False)\n",
              "    )\n",
              "    (encoder): BertEncoder(\n",
              "      (layer): ModuleList(\n",
              "        (0): BertLayer(\n",
              "          (attention): BertAttention(\n",
              "            (self): BertSelfAttention(\n",
              "              (query): Linear(in_features=768, out_features=768, bias=True)\n",
              "              (key): Linear(in_features=768, out_features=768, bias=True)\n",
              "              (value): Linear(in_features=768, out_features=768, bias=True)\n",
              "              (dropout): Dropout(p=0.1, inplace=False)\n",
              "            )\n",
              "            (output): BertSelfOutput(\n",
              "              (dense): Linear(in_features=768, out_features=768, bias=True)\n",
              "              (LayerNorm): LayerNorm((768,), eps=1e-05, elementwise_affine=True)\n",
              "              (dropout): Dropout(p=0.1, inplace=False)\n",
              "            )\n",
              "          )\n",
              "          (intermediate): BertIntermediate(\n",
              "            (dense): Linear(in_features=768, out_features=3072, bias=True)\n",
              "          )\n",
              "          (output): BertOutput(\n",
              "            (dense): Linear(in_features=3072, out_features=768, bias=True)\n",
              "            (LayerNorm): LayerNorm((768,), eps=1e-05, elementwise_affine=True)\n",
              "            (dropout): Dropout(p=0.1, inplace=False)\n",
              "          )\n",
              "        )\n",
              "        (1): BertLayer(\n",
              "          (attention): BertAttention(\n",
              "            (self): BertSelfAttention(\n",
              "              (query): Linear(in_features=768, out_features=768, bias=True)\n",
              "              (key): Linear(in_features=768, out_features=768, bias=True)\n",
              "              (value): Linear(in_features=768, out_features=768, bias=True)\n",
              "              (dropout): Dropout(p=0.1, inplace=False)\n",
              "            )\n",
              "            (output): BertSelfOutput(\n",
              "              (dense): Linear(in_features=768, out_features=768, bias=True)\n",
              "              (LayerNorm): LayerNorm((768,), eps=1e-05, elementwise_affine=True)\n",
              "              (dropout): Dropout(p=0.1, inplace=False)\n",
              "            )\n",
              "          )\n",
              "          (intermediate): BertIntermediate(\n",
              "            (dense): Linear(in_features=768, out_features=3072, bias=True)\n",
              "          )\n",
              "          (output): BertOutput(\n",
              "            (dense): Linear(in_features=3072, out_features=768, bias=True)\n",
              "            (LayerNorm): LayerNorm((768,), eps=1e-05, elementwise_affine=True)\n",
              "            (dropout): Dropout(p=0.1, inplace=False)\n",
              "          )\n",
              "        )\n",
              "        (2): BertLayer(\n",
              "          (attention): BertAttention(\n",
              "            (self): BertSelfAttention(\n",
              "              (query): Linear(in_features=768, out_features=768, bias=True)\n",
              "              (key): Linear(in_features=768, out_features=768, bias=True)\n",
              "              (value): Linear(in_features=768, out_features=768, bias=True)\n",
              "              (dropout): Dropout(p=0.1, inplace=False)\n",
              "            )\n",
              "            (output): BertSelfOutput(\n",
              "              (dense): Linear(in_features=768, out_features=768, bias=True)\n",
              "              (LayerNorm): LayerNorm((768,), eps=1e-05, elementwise_affine=True)\n",
              "              (dropout): Dropout(p=0.1, inplace=False)\n",
              "            )\n",
              "          )\n",
              "          (intermediate): BertIntermediate(\n",
              "            (dense): Linear(in_features=768, out_features=3072, bias=True)\n",
              "          )\n",
              "          (output): BertOutput(\n",
              "            (dense): Linear(in_features=3072, out_features=768, bias=True)\n",
              "            (LayerNorm): LayerNorm((768,), eps=1e-05, elementwise_affine=True)\n",
              "            (dropout): Dropout(p=0.1, inplace=False)\n",
              "          )\n",
              "        )\n",
              "        (3): BertLayer(\n",
              "          (attention): BertAttention(\n",
              "            (self): BertSelfAttention(\n",
              "              (query): Linear(in_features=768, out_features=768, bias=True)\n",
              "              (key): Linear(in_features=768, out_features=768, bias=True)\n",
              "              (value): Linear(in_features=768, out_features=768, bias=True)\n",
              "              (dropout): Dropout(p=0.1, inplace=False)\n",
              "            )\n",
              "            (output): BertSelfOutput(\n",
              "              (dense): Linear(in_features=768, out_features=768, bias=True)\n",
              "              (LayerNorm): LayerNorm((768,), eps=1e-05, elementwise_affine=True)\n",
              "              (dropout): Dropout(p=0.1, inplace=False)\n",
              "            )\n",
              "          )\n",
              "          (intermediate): BertIntermediate(\n",
              "            (dense): Linear(in_features=768, out_features=3072, bias=True)\n",
              "          )\n",
              "          (output): BertOutput(\n",
              "            (dense): Linear(in_features=3072, out_features=768, bias=True)\n",
              "            (LayerNorm): LayerNorm((768,), eps=1e-05, elementwise_affine=True)\n",
              "            (dropout): Dropout(p=0.1, inplace=False)\n",
              "          )\n",
              "        )\n",
              "        (4): BertLayer(\n",
              "          (attention): BertAttention(\n",
              "            (self): BertSelfAttention(\n",
              "              (query): Linear(in_features=768, out_features=768, bias=True)\n",
              "              (key): Linear(in_features=768, out_features=768, bias=True)\n",
              "              (value): Linear(in_features=768, out_features=768, bias=True)\n",
              "              (dropout): Dropout(p=0.1, inplace=False)\n",
              "            )\n",
              "            (output): BertSelfOutput(\n",
              "              (dense): Linear(in_features=768, out_features=768, bias=True)\n",
              "              (LayerNorm): LayerNorm((768,), eps=1e-05, elementwise_affine=True)\n",
              "              (dropout): Dropout(p=0.1, inplace=False)\n",
              "            )\n",
              "          )\n",
              "          (intermediate): BertIntermediate(\n",
              "            (dense): Linear(in_features=768, out_features=3072, bias=True)\n",
              "          )\n",
              "          (output): BertOutput(\n",
              "            (dense): Linear(in_features=3072, out_features=768, bias=True)\n",
              "            (LayerNorm): LayerNorm((768,), eps=1e-05, elementwise_affine=True)\n",
              "            (dropout): Dropout(p=0.1, inplace=False)\n",
              "          )\n",
              "        )\n",
              "        (5): BertLayer(\n",
              "          (attention): BertAttention(\n",
              "            (self): BertSelfAttention(\n",
              "              (query): Linear(in_features=768, out_features=768, bias=True)\n",
              "              (key): Linear(in_features=768, out_features=768, bias=True)\n",
              "              (value): Linear(in_features=768, out_features=768, bias=True)\n",
              "              (dropout): Dropout(p=0.1, inplace=False)\n",
              "            )\n",
              "            (output): BertSelfOutput(\n",
              "              (dense): Linear(in_features=768, out_features=768, bias=True)\n",
              "              (LayerNorm): LayerNorm((768,), eps=1e-05, elementwise_affine=True)\n",
              "              (dropout): Dropout(p=0.1, inplace=False)\n",
              "            )\n",
              "          )\n",
              "          (intermediate): BertIntermediate(\n",
              "            (dense): Linear(in_features=768, out_features=3072, bias=True)\n",
              "          )\n",
              "          (output): BertOutput(\n",
              "            (dense): Linear(in_features=3072, out_features=768, bias=True)\n",
              "            (LayerNorm): LayerNorm((768,), eps=1e-05, elementwise_affine=True)\n",
              "            (dropout): Dropout(p=0.1, inplace=False)\n",
              "          )\n",
              "        )\n",
              "        (6): BertLayer(\n",
              "          (attention): BertAttention(\n",
              "            (self): BertSelfAttention(\n",
              "              (query): Linear(in_features=768, out_features=768, bias=True)\n",
              "              (key): Linear(in_features=768, out_features=768, bias=True)\n",
              "              (value): Linear(in_features=768, out_features=768, bias=True)\n",
              "              (dropout): Dropout(p=0.1, inplace=False)\n",
              "            )\n",
              "            (output): BertSelfOutput(\n",
              "              (dense): Linear(in_features=768, out_features=768, bias=True)\n",
              "              (LayerNorm): LayerNorm((768,), eps=1e-05, elementwise_affine=True)\n",
              "              (dropout): Dropout(p=0.1, inplace=False)\n",
              "            )\n",
              "          )\n",
              "          (intermediate): BertIntermediate(\n",
              "            (dense): Linear(in_features=768, out_features=3072, bias=True)\n",
              "          )\n",
              "          (output): BertOutput(\n",
              "            (dense): Linear(in_features=3072, out_features=768, bias=True)\n",
              "            (LayerNorm): LayerNorm((768,), eps=1e-05, elementwise_affine=True)\n",
              "            (dropout): Dropout(p=0.1, inplace=False)\n",
              "          )\n",
              "        )\n",
              "        (7): BertLayer(\n",
              "          (attention): BertAttention(\n",
              "            (self): BertSelfAttention(\n",
              "              (query): Linear(in_features=768, out_features=768, bias=True)\n",
              "              (key): Linear(in_features=768, out_features=768, bias=True)\n",
              "              (value): Linear(in_features=768, out_features=768, bias=True)\n",
              "              (dropout): Dropout(p=0.1, inplace=False)\n",
              "            )\n",
              "            (output): BertSelfOutput(\n",
              "              (dense): Linear(in_features=768, out_features=768, bias=True)\n",
              "              (LayerNorm): LayerNorm((768,), eps=1e-05, elementwise_affine=True)\n",
              "              (dropout): Dropout(p=0.1, inplace=False)\n",
              "            )\n",
              "          )\n",
              "          (intermediate): BertIntermediate(\n",
              "            (dense): Linear(in_features=768, out_features=3072, bias=True)\n",
              "          )\n",
              "          (output): BertOutput(\n",
              "            (dense): Linear(in_features=3072, out_features=768, bias=True)\n",
              "            (LayerNorm): LayerNorm((768,), eps=1e-05, elementwise_affine=True)\n",
              "            (dropout): Dropout(p=0.1, inplace=False)\n",
              "          )\n",
              "        )\n",
              "        (8): BertLayer(\n",
              "          (attention): BertAttention(\n",
              "            (self): BertSelfAttention(\n",
              "              (query): Linear(in_features=768, out_features=768, bias=True)\n",
              "              (key): Linear(in_features=768, out_features=768, bias=True)\n",
              "              (value): Linear(in_features=768, out_features=768, bias=True)\n",
              "              (dropout): Dropout(p=0.1, inplace=False)\n",
              "            )\n",
              "            (output): BertSelfOutput(\n",
              "              (dense): Linear(in_features=768, out_features=768, bias=True)\n",
              "              (LayerNorm): LayerNorm((768,), eps=1e-05, elementwise_affine=True)\n",
              "              (dropout): Dropout(p=0.1, inplace=False)\n",
              "            )\n",
              "          )\n",
              "          (intermediate): BertIntermediate(\n",
              "            (dense): Linear(in_features=768, out_features=3072, bias=True)\n",
              "          )\n",
              "          (output): BertOutput(\n",
              "            (dense): Linear(in_features=3072, out_features=768, bias=True)\n",
              "            (LayerNorm): LayerNorm((768,), eps=1e-05, elementwise_affine=True)\n",
              "            (dropout): Dropout(p=0.1, inplace=False)\n",
              "          )\n",
              "        )\n",
              "        (9): BertLayer(\n",
              "          (attention): BertAttention(\n",
              "            (self): BertSelfAttention(\n",
              "              (query): Linear(in_features=768, out_features=768, bias=True)\n",
              "              (key): Linear(in_features=768, out_features=768, bias=True)\n",
              "              (value): Linear(in_features=768, out_features=768, bias=True)\n",
              "              (dropout): Dropout(p=0.1, inplace=False)\n",
              "            )\n",
              "            (output): BertSelfOutput(\n",
              "              (dense): Linear(in_features=768, out_features=768, bias=True)\n",
              "              (LayerNorm): LayerNorm((768,), eps=1e-05, elementwise_affine=True)\n",
              "              (dropout): Dropout(p=0.1, inplace=False)\n",
              "            )\n",
              "          )\n",
              "          (intermediate): BertIntermediate(\n",
              "            (dense): Linear(in_features=768, out_features=3072, bias=True)\n",
              "          )\n",
              "          (output): BertOutput(\n",
              "            (dense): Linear(in_features=3072, out_features=768, bias=True)\n",
              "            (LayerNorm): LayerNorm((768,), eps=1e-05, elementwise_affine=True)\n",
              "            (dropout): Dropout(p=0.1, inplace=False)\n",
              "          )\n",
              "        )\n",
              "        (10): BertLayer(\n",
              "          (attention): BertAttention(\n",
              "            (self): BertSelfAttention(\n",
              "              (query): Linear(in_features=768, out_features=768, bias=True)\n",
              "              (key): Linear(in_features=768, out_features=768, bias=True)\n",
              "              (value): Linear(in_features=768, out_features=768, bias=True)\n",
              "              (dropout): Dropout(p=0.1, inplace=False)\n",
              "            )\n",
              "            (output): BertSelfOutput(\n",
              "              (dense): Linear(in_features=768, out_features=768, bias=True)\n",
              "              (LayerNorm): LayerNorm((768,), eps=1e-05, elementwise_affine=True)\n",
              "              (dropout): Dropout(p=0.1, inplace=False)\n",
              "            )\n",
              "          )\n",
              "          (intermediate): BertIntermediate(\n",
              "            (dense): Linear(in_features=768, out_features=3072, bias=True)\n",
              "          )\n",
              "          (output): BertOutput(\n",
              "            (dense): Linear(in_features=3072, out_features=768, bias=True)\n",
              "            (LayerNorm): LayerNorm((768,), eps=1e-05, elementwise_affine=True)\n",
              "            (dropout): Dropout(p=0.1, inplace=False)\n",
              "          )\n",
              "        )\n",
              "        (11): BertLayer(\n",
              "          (attention): BertAttention(\n",
              "            (self): BertSelfAttention(\n",
              "              (query): Linear(in_features=768, out_features=768, bias=True)\n",
              "              (key): Linear(in_features=768, out_features=768, bias=True)\n",
              "              (value): Linear(in_features=768, out_features=768, bias=True)\n",
              "              (dropout): Dropout(p=0.1, inplace=False)\n",
              "            )\n",
              "            (output): BertSelfOutput(\n",
              "              (dense): Linear(in_features=768, out_features=768, bias=True)\n",
              "              (LayerNorm): LayerNorm((768,), eps=1e-05, elementwise_affine=True)\n",
              "              (dropout): Dropout(p=0.1, inplace=False)\n",
              "            )\n",
              "          )\n",
              "          (intermediate): BertIntermediate(\n",
              "            (dense): Linear(in_features=768, out_features=3072, bias=True)\n",
              "          )\n",
              "          (output): BertOutput(\n",
              "            (dense): Linear(in_features=3072, out_features=768, bias=True)\n",
              "            (LayerNorm): LayerNorm((768,), eps=1e-05, elementwise_affine=True)\n",
              "            (dropout): Dropout(p=0.1, inplace=False)\n",
              "          )\n",
              "        )\n",
              "      )\n",
              "    )\n",
              "    (pooler): BertPooler(\n",
              "      (dense): Linear(in_features=768, out_features=768, bias=True)\n",
              "      (activation): Tanh()\n",
              "    )\n",
              "  )\n",
              "  (dropout): Dropout(p=0.1, inplace=False)\n",
              "  (classifier): Linear(in_features=768, out_features=2, bias=True)\n",
              ")"
            ]
          },
          "execution_count": 36,
          "metadata": {},
          "output_type": "execute_result"
        }
      ],
      "source": [
        "#Chỉnh đường dẫn lại theo file đi kèm\n",
        "from transformers import RobertaForSequenceClassification, RobertaConfig, AdamW, BertForSequenceClassification\n",
        "\n",
        "config = RobertaConfig.from_pretrained(\n",
        "    \"/content/PhoBERT_base_transformers/config.json\", from_tf=False, num_labels = 2, output_hidden_states=False,\n",
        ")\n",
        "BERT_SA = BertForSequenceClassification.from_pretrained(\n",
        "    \"/content/drive/MyDrive/Colab Notebooks/model_phobert/pytorch_model.bin\",\n",
        "    config=config\n",
        ")\n",
        "\n",
        "BERT_SA.cuda()"
      ]
    },
    {
      "cell_type": "markdown",
      "metadata": {
        "id": "Nd4DDQ2ltp_R"
      },
      "source": [
        "Hàm để huấn luyện "
      ]
    },
    {
      "cell_type": "code",
      "execution_count": null,
      "metadata": {
        "id": "7nBn34RHZyZe"
      },
      "outputs": [],
      "source": [
        "def flat_accuracy(logits, labels):\n",
        "    preds = []\n",
        "    for line in logits:\n",
        "        preds.append(torch.argmax(line).cpu().numpy())\n",
        "    return accuracy_score(preds, labels.cpu().numpy())"
      ]
    },
    {
      "cell_type": "code",
      "execution_count": null,
      "metadata": {
        "id": "K7O0tsf0uMy3"
      },
      "outputs": [],
      "source": [
        "def train_model(model):\n",
        "    model.train()\n",
        "    train_loss = 0\n",
        "    acc = []\n",
        "    for batch in train_dataloader:\n",
        "        b_input_ids = batch[0].to(device)\n",
        "        b_input_mask = batch[1].to(device)\n",
        "        b_labels = batch[2].to(device)\n",
        "        BERT_SA.zero_grad()\n",
        "        outputs = model(b_input_ids, \n",
        "            token_type_ids=None, \n",
        "            attention_mask=b_input_mask, \n",
        "            labels=b_labels)\n",
        "        loss = outputs[0]\n",
        "        logits = outputs[1]\n",
        "        acc.append(flat_accuracy(logits, b_labels))\n",
        "        loss.backward()\n",
        "        torch.nn.utils.clip_grad_norm_(model.parameters(), 1.0)\n",
        "        optimizer.step()\n",
        "        train_loss += loss.item()\n",
        "\n",
        "    return train_loss, round(np.mean(acc), 3)"
      ]
    },
    {
      "cell_type": "markdown",
      "metadata": {
        "id": "SG-pQ9PltutB"
      },
      "source": [
        "Tiến hành huấn luyện mô hình. Nếu ta load mô hình đã qua huấn luyện thì có thể bỏ qua đoạn này"
      ]
    },
    {
      "cell_type": "code",
      "execution_count": null,
      "metadata": {
        "id": "n3URSzVY352R"
      },
      "outputs": [],
      "source": [
        "from tqdm.notebook import tqdm\n",
        "import time\n",
        "device = 'cuda'\n",
        "epochs = 4\n",
        "\n",
        "param_optimizer = list(BERT_SA.named_parameters())\n",
        "no_decay = ['bias', 'LayerNorm.bias', 'LayerNorm.weight']\n",
        "optimizer_grouped_parameters = [\n",
        "    {'params': [p for n, p in param_optimizer if not any(nd in n for nd in no_decay)], 'weight_decay': 0.01},\n",
        "    {'params': [p for n, p in param_optimizer if any(nd in n for nd in no_decay)], 'weight_decay': 0.0}\n",
        "]\n",
        "\n",
        "optimizer = AdamW(BERT_SA.parameters(), lr=1e-5, correct_bias=False)\n",
        "train_loss_ = []\n",
        "test_loss_ = []\n",
        "\n",
        "for epoch in range(epochs):\n",
        "    begin_time = time.time()\n",
        "    loss, acc = train_model(BERT_SA)\n",
        "    done_time = time.time() - begin_time\n",
        "    print(f\"Epoch {epoch + 1}: {round(done_time)} seconds - loss {round(loss, 3)} - accuracy {acc}\")\n",
        "    train_loss_.append([loss, acc])"
      ]
    },
    {
      "cell_type": "markdown",
      "metadata": {
        "id": "evD2JRhFt1Jc"
      },
      "source": [
        "Tiến hành dự đoán trên tập test. Kết quả trả về sẽ là 1 mảng [a, b] trong đó a và b là xác xuất của dữ liệu đó đối với nhãn 0 và 1"
      ]
    },
    {
      "cell_type": "code",
      "execution_count": null,
      "metadata": {
        "id": "s0J45lvf0ZUn"
      },
      "outputs": [],
      "source": [
        "device = 'cuda'\n",
        "preds = []\n",
        "for batch in val_dataloader:\n",
        "    b_input_ids = batch[0].to(device)\n",
        "    b_input_mask = batch[1].to(device)\n",
        "    with torch.no_grad():\n",
        "        pred=BERT_SA(b_input_ids,token_type_ids=None,attention_mask=b_input_mask)\n",
        "        preds.append(pred[0])"
      ]
    },
    {
      "cell_type": "markdown",
      "metadata": {
        "id": "d-AjkraEui7u"
      },
      "source": [
        "Dùng hàm argmax của numpy để chuyển đổi mảng [a,b] thành nhãn 0 hay là 1. "
      ]
    },
    {
      "cell_type": "code",
      "execution_count": null,
      "metadata": {
        "id": "wa3Am_PM2ioY"
      },
      "outputs": [],
      "source": [
        "lab = []\n",
        "for line in preds:\n",
        "  for i in line:\n",
        "    predicts = i.to('cuda').detach().numpy().copy()\n",
        "    lab.append(np.argmax(predicts))"
      ]
    },
    {
      "cell_type": "markdown",
      "metadata": {
        "id": "iztmWKxZuwfJ"
      },
      "source": [
        "Đánh giá mô hình "
      ]
    },
    {
      "cell_type": "code",
      "execution_count": null,
      "metadata": {
        "colab": {
          "base_uri": "https://localhost:8080/"
        },
        "id": "Oe3H87tK3KWn",
        "outputId": "cd2c5a0b-a238-4860-dfc4-ba589d585b0e"
      },
      "outputs": [
        {
          "name": "stdout",
          "output_type": "stream",
          "text": [
            "0.8453192026242745\n"
          ]
        }
      ],
      "source": [
        "print(accuracy_score(val_labels.tolist(), lab))"
      ]
    },
    {
      "cell_type": "markdown",
      "metadata": {
        "id": "7DWCVrbau3pY"
      },
      "source": [
        "Đoạn code này sẽ xóa mô hình để tránh việc bị lỗi. Nên chạy đoạn code này sau khi đã tạo mô hình trên Colab hoặc Kaggle tránh việc gây lỗi "
      ]
    },
    {
      "cell_type": "code",
      "execution_count": null,
      "metadata": {
        "id": "1hbYqRgOUzvS"
      },
      "outputs": [],
      "source": [
        "import torch, gc\n",
        "\n",
        "gc.collect()\n",
        "torch.cuda.empty_cache()\n",
        "del BERT_SA"
      ]
    },
    {
      "cell_type": "code",
      "execution_count": null,
      "metadata": {
        "colab": {
          "base_uri": "https://localhost:8080/"
        },
        "id": "-oM2xnwLWCOM",
        "outputId": "13d7236b-7029-4d05-fb89-91934f8ac71d"
      },
      "outputs": [
        {
          "name": "stdout",
          "output_type": "stream",
          "text": [
            "Mounted at /content/drive\n"
          ]
        }
      ],
      "source": [
        "from google.colab import drive\n",
        "drive.mount('/content/drive')"
      ]
    }
  ],
  "metadata": {
    "accelerator": "GPU",
    "colab": {
      "collapsed_sections": [],
      "name": "MSSV_TenSVVietLien_Reviews_Classification.ipynb",
      "provenance": []
    },
    "kernelspec": {
      "display_name": "Python 3",
      "name": "python3"
    },
    "language_info": {
      "name": "python"
    }
  },
  "nbformat": 4,
  "nbformat_minor": 0
}
