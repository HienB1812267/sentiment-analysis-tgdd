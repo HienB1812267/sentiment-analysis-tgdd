{
  "nbformat": 4,
  "nbformat_minor": 0,
  "metadata": {
    "colab": {
      "name": "CrawlLaptopPhone.ipynb",
      "provenance": [],
      "collapsed_sections": []
    },
    "kernelspec": {
      "name": "python3",
      "display_name": "Python 3"
    },
    "language_info": {
      "name": "python"
    },
    "accelerator": "GPU"
  },
  "cells": [
    {
      "cell_type": "code",
      "metadata": {
        "id": "RsKeFvCQ1HQt"
      },
      "source": [
        "#Cài thư viện selenium\n",
        "!pip install html5lib\n",
        "!pip install lxml\n",
        "\n",
        "!pip install selenium\n",
        "!apt-get update\n",
        "!apt install chromium-chromedriver\n",
        "!cp /usr/lib/chromium-browser/chromedriver /usr/bin"
      ],
      "execution_count": null,
      "outputs": []
    },
    {
      "cell_type": "code",
      "metadata": {
        "id": "dY3iQ6gH1hCU"
      },
      "source": [
        "from selenium import webdriver\n",
        "from selenium.webdriver.common.by import By\n",
        "from time import sleep\n",
        "from random import randrange\n",
        "import json\n",
        "from bs4 import BeautifulSoup\n",
        "from selenium.webdriver.common.keys import Keys\n",
        "import re\n",
        "import requests\n",
        "\n",
        "#setting\n",
        "headers = { 'User-Agent': 'Mozilla/5.0 (Macintosh; Intel Mac OS X 10_10_1)' +\n",
        "            'AppleWebKit/537.36 (KHTML, like Gecko) Chrome/39.0.2171.95 Safari/537.36'}\n",
        "options = webdriver.ChromeOptions()\n",
        "options.add_argument('--headless')\n",
        "options.add_argument('--no-sandbox')\n",
        "options.add_argument(\"--disable-infobars\")\n",
        "options.add_argument(\"start-maximized\")\n",
        "options.add_argument(\"--disable-extensions\")\n",
        "options.add_argument('--disable-dev-shm-usage')\n",
        "options.add_experimental_option(\"prefs\", { \n",
        "    \"profile.default_content_setting_values.notifications\": 1 \n",
        "})"
      ],
      "execution_count": null,
      "outputs": []
    },
    {
      "cell_type": "markdown",
      "metadata": {
        "id": "4nvsALdt2aNT"
      },
      "source": [
        "Setup cào dữ liệu mục điện thoại"
      ]
    },
    {
      "cell_type": "code",
      "metadata": {
        "id": "J_GVdZzu1-Rg"
      },
      "source": [
        "browser = webdriver.Chrome('chromedriver', options = options)\n",
        "browser.get('https://www.thegioididong.com/dtdd')\n",
        "button_show_more = browser.find_element(By.XPATH, '/html/body/section/div[3]/div[2]/a')\n",
        "while True:\n",
        "  try:\n",
        "    button_show_more.click()\n",
        "    sleep(3)\n",
        "  except:\n",
        "    break\n",
        "\n",
        "html = browser.page_source\n",
        "soup = BeautifulSoup(html, 'html.parser')\n",
        "browser.close()"
      ],
      "execution_count": null,
      "outputs": []
    },
    {
      "cell_type": "markdown",
      "metadata": {
        "id": "MhTcerkMWFQg"
      },
      "source": [
        "Setup cào dữ liệu mục laptop"
      ]
    },
    {
      "cell_type": "code",
      "metadata": {
        "id": "zam94FYwWE_P"
      },
      "source": [
        "browser = webdriver.Chrome('chromedriver', options = options)\n",
        "browser.get('https://www.thegioididong.com/laptop')\n",
        "button_show_more = browser.find_element_by_xpath('/html/body/section/div[3]/div[2]/a')\n",
        "while True:\n",
        "  try:\n",
        "    button_show_more.click()\n",
        "    sleep(3)\n",
        "  except:\n",
        "    break\n",
        "    \n",
        "html = browser.page_source\n",
        "soup = BeautifulSoup(html, 'html.parser')\n",
        "browser.close()"
      ],
      "execution_count": null,
      "outputs": []
    },
    {
      "cell_type": "markdown",
      "metadata": {
        "id": "NgYZhvnKITgq"
      },
      "source": [
        "Function cào toàn bộ đánh giá"
      ]
    },
    {
      "cell_type": "code",
      "metadata": {
        "id": "2Iz-W_NlfJXb"
      },
      "source": [
        "def get_all_reviews(link):\n",
        "  list_reviews = []\n",
        "  browser = webdriver.Chrome('chromedriver', options = options)\n",
        "  browser.get(link)\n",
        "  sleep(2)\n",
        "  next_page = 2 \n",
        "  while True:\n",
        "    page = browser.page_source\n",
        "    html = BeautifulSoup(page, 'html.parser')\n",
        "    reviews = html.findAll('div', class_ = 'comment__item par')\n",
        "    next_title = 'trang ' + str(next_page)\n",
        "    for review in reviews:\n",
        "        name = review.find('p', class_='txtname').text\n",
        "        content = review.find('p', class_='cmt-txt').text\n",
        "        star = len(review.findAll('i', class_='icon-star'))\n",
        "        list_reviews.append({\n",
        "            'name': name,\n",
        "            'content': content,\n",
        "            'star': star\n",
        "        })\n",
        "    try:\n",
        "      button = browser.find_element_by_xpath(\"//a[@title='\"+next_title+\"']\")\n",
        "      button.click()\n",
        "      # print(\"click page\",str(next_page),'sucess')\n",
        "      next_page += 1\n",
        "      sleep(3)\n",
        "    except:\n",
        "      break\n",
        "  browser.close()\n",
        "  return list_reviews\n",
        "  "
      ],
      "execution_count": null,
      "outputs": []
    },
    {
      "cell_type": "markdown",
      "metadata": {
        "id": "ydb36ReWQds2"
      },
      "source": [
        "Function truy cập vào đường link đánh giá của sản phẩm"
      ]
    },
    {
      "cell_type": "code",
      "metadata": {
        "id": "Lny2_-KG-Fij"
      },
      "source": [
        "def get_reviews(link):\n",
        "  #Truy cập vào trang đánh giá\n",
        "  number_page = 1\n",
        "  crawl_link = 'https://www.thegioididong.com' + link +'/danh-gia?p='\n",
        "  get_request = requests.get(crawl_link + str(number_page), headers = headers)\n",
        "  get_html = BeautifulSoup(get_request.content, 'html.parser')\n",
        "  #Lấy tên sản phẩm và in ra tên sản phẩm\n",
        "  product_name = get_html.find('div', class_='box-pdt__content').find('h3').text\n",
        "  print('Begin collect data from', product_name)\n",
        "  #Lấy và in ra tiêu đề của đường dẫn hiện tại\n",
        "  print('title:', get_html.title.text)\n",
        "  #Khởi tạo mảng chứa các comment sẽ cào được\n",
        "  list_reviews = []\n",
        "  while True:\n",
        "    #Truy cập vào trang đánh giá dựa theo số trang\n",
        "    get_request = requests.get(crawl_link + str(number_page), headers = headers)\n",
        "    get_html = BeautifulSoup(get_request.content, 'html.parser')\n",
        "    #Liệt kê toàn bộ các thẻ div chứa các comment\n",
        "    reviews = get_html.findAll('div', class_ = 'comment__item par')\n",
        "    number_page += 1\n",
        "    #Dừng lại nếu không tìm thấy comment nào\n",
        "    if len(reviews) == 0:\n",
        "      break\n",
        "    #Duyệt qua từng thẻ div chứa comment để lấy thông tin\n",
        "    for review in reviews:\n",
        "      #Lấy tên người dùng\n",
        "      name = review.find('p', class_='txtname').text\n",
        "      #Lấy nội dung comment\n",
        "      content = review.find('p', class_='cmt-txt').text\n",
        "      #Lấy đánh giá sao\n",
        "      star = len(review.findAll('i', class_='icon-star'))\n",
        "      #Đưa vào mảng chứa comment\n",
        "      list_reviews.append({\n",
        "          'name': name,\n",
        "          'content': content,\n",
        "          'star': star,\n",
        "      })\n",
        "    sleep(3)\n",
        "  print('Collect data from', product_name, 'is done!, found', str(len(list_reviews)), 'comments')\n",
        "  print('----------------------------------------------------')\n",
        "  return list_reviews"
      ],
      "execution_count": null,
      "outputs": []
    },
    {
      "cell_type": "markdown",
      "metadata": {
        "id": "tbHCMDJ1fJsM"
      },
      "source": [
        "Function lấy toàn bộ các đánh giá về sản phẩm"
      ]
    },
    {
      "cell_type": "markdown",
      "metadata": {
        "id": "DD1ldX_fWgoN"
      },
      "source": [
        "Thu thập đánh giá từ mục điện thoại\n",
        "\n"
      ]
    },
    {
      "cell_type": "code",
      "metadata": {
        "id": "LrjmTxlC3FgB",
        "colab": {
          "base_uri": "https://localhost:8080/"
        },
        "outputId": "f8b7eb80-a6a9-49c0-a234-6a07f99f7fef"
      },
      "source": [
        "list_products = soup.findAll('a', {'class':'main-contain'})\n",
        "list_reviews = []\n",
        "list_links = [link.attrs['href'] for link in list_products]\n",
        "for link in list_links:\n",
        "  list_reviews += get_reviews(link[:len(link) - 8])\n",
        "\n",
        "#Lưu lại thành file json\n",
        "with open('data_TGDD.json', 'w', encoding='utf-8') as file:\n",
        " json.dump(list_reviews, file)"
      ],
      "execution_count": null,
      "outputs": [
        {
          "output_type": "stream",
          "name": "stdout",
          "text": [
            "246\n"
          ]
        }
      ]
    },
    {
      "cell_type": "markdown",
      "metadata": {
        "id": "NC75uE5XWohk"
      },
      "source": [
        "Thu thập đánh giá từ mục laptop"
      ]
    },
    {
      "cell_type": "code",
      "metadata": {
        "id": "tcJHP1oEOHRR"
      },
      "source": [
        "list_products = soup.findAll('a', {'class':'main-contain'})\n",
        "g_list_laptops = []\n",
        "list_links = [link.attrs['href'] for link in list_products]\n",
        "link = list_links[1]\n",
        "error = []\n",
        "for link in list_links:\n",
        "  try:\n",
        "    g_list_laptops.append(get_review(link[:len(link) - 8]))\n",
        "  except:\n",
        "    error.append(link)\n",
        "\n",
        "with open('laptop_data.json', 'w', encoding='utf-8') as file:\n",
        " json.dump(g_list_laptops, file)"
      ],
      "execution_count": null,
      "outputs": []
    }
  ]
}